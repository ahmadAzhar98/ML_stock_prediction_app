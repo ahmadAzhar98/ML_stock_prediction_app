{
  "cells": [
    {
      "cell_type": "code",
      "execution_count": 1,
      "metadata": {
        "id": "05H0s4aCNgga"
      },
      "outputs": [],
      "source": [
        "import pandas as pd\n",
        "from sklearn.preprocessing import StandardScaler\n",
        "import matplotlib.pyplot as plt\n",
        "import pickle"
      ]
    },
    {
      "cell_type": "code",
      "execution_count": 2,
      "metadata": {
        "id": "fkxaC71UNggu"
      },
      "outputs": [],
      "source": [
        "df = pd.read_excel('/Users/ahmadazhar/Desktop/Dashboard/data.xlsx')"
      ]
    },
    {
      "cell_type": "markdown",
      "metadata": {
        "id": "ajj6E8vIHwyC"
      },
      "source": [
        "Data Cleaning"
      ]
    },
    {
      "cell_type": "code",
      "execution_count": 3,
      "metadata": {
        "id": "bKsLei9-9jd3"
      },
      "outputs": [],
      "source": [
        "# Drop columns with all same values\n",
        "nunique = df.nunique()\n",
        "cols_to_drop = nunique[nunique == 1].index\n",
        "\n",
        "df.drop(cols_to_drop, axis=1, inplace=True)"
      ]
    },
    {
      "cell_type": "code",
      "execution_count": 4,
      "metadata": {
        "id": "QNOlleUuNgg1"
      },
      "outputs": [],
      "source": [
        "# Drop columns that are null\n",
        "cols_to_drop = df.columns[df.isnull().any()]\n",
        "\n",
        "if df[cols_to_drop].value_counts().values.size > 0:\n",
        "  print(df[cols_to_drop].value_counts())\n",
        "else:\n",
        "  df.drop(cols_to_drop, axis=1, inplace=True)"
      ]
    },
    {
      "cell_type": "code",
      "execution_count": 5,
      "metadata": {
        "colab": {
          "base_uri": "https://localhost:8080/"
        },
        "id": "WK9HtQCmCADA",
        "outputId": "05b8eeec-43f9-4fc3-86ca-76ed026e9a5a"
      },
      "outputs": [
        {
          "name": "stdout",
          "output_type": "stream",
          "text": [
            "Column 'CreditLimit' has 98.99% of: 0\n",
            "Column 'PaymentTerms' has 98.99% of: Cash on Delivery\n",
            "Column 'DueDateCalc' has 98.99% of: 0D\n",
            "Column 'Discount' has 93.72% of: 0.0\n",
            "Column 'BaseUOM' has 99.90% of: PC\n"
          ]
        }
      ],
      "source": [
        "# Drop columns with mostly common values\n",
        "mostly_same_cols = df.columns\n",
        "\n",
        "for col in mostly_same_cols:\n",
        "  common_percentage = df[col].value_counts().max() / df.shape[0] * 100\n",
        "  if common_percentage > 90:\n",
        "    print(f\"Column '{col}' has {common_percentage:.2f}% of: {df[col].value_counts().idxmax()}\")\n",
        "    df.drop(col, axis=1, inplace=True)"
      ]
    },
    {
      "cell_type": "code",
      "execution_count": 6,
      "metadata": {
        "colab": {
          "base_uri": "https://localhost:8080/",
          "height": 105
        },
        "id": "2ifX_r0-Ngg4",
        "outputId": "06268ab9-93b1-43fe-b4e6-56b69d1ff7ae"
      },
      "outputs": [
        {
          "name": "stdout",
          "output_type": "stream",
          "text": [
            "Shape of Data:  (988, 25)  --  Number of Null Values:  0\n",
            "\n",
            "Columns: \n"
          ]
        },
        {
          "data": {
            "text/plain": [
              "'CustNo, CustName, Address, BarangayName, ProvinceName, SalesManTerritory, InvNo, InvDt, DoDt, DeliveryDate, Salesman, SubTotal, GstAmt, TotalAmt, PaidAmt, DueDate, LineNo, ItemNo, UOM, Qty, Price, SubAmt, ItemName, BaseQty, ts'"
            ]
          },
          "execution_count": 6,
          "metadata": {},
          "output_type": "execute_result"
        }
      ],
      "source": [
        "print(\"Shape of Data: \", df.shape, \" -- \", \"Number of Null Values: \", df.isnull().sum().sum())\n",
        "print(\"\\nColumns: \")\n",
        "\", \".join(df.columns)"
      ]
    },
    {
      "cell_type": "code",
      "execution_count": 7,
      "metadata": {
        "id": "A6EtTjsNOaoQ"
      },
      "outputs": [],
      "source": [
        "column_mapping = { 'CustNo': 'customer_number', 'CustName': 'customer_name', 'Address': 'customer_address', 'BarangayName': 'district', 'ProvinceName': 'province', 'SalesManTerritory': 'salesman_territory', 'InvNo': 'invoice_number', 'InvDt': 'invoice_date', 'DoDt': 'delivery_order_date', 'DeliveryDate': 'delivery_date', 'Salesman': 'salesman_name', 'DueDate': 'due_date', 'UOM': 'unit_of_measurement', 'ItemName': 'product_name', 'SubTotal': 'subtotal_amount', 'GstAmt': 'gst_amount', 'TotalAmt': 'total_amount', 'PaidAmt': 'paid_amount', 'Price': 'product_price', 'SubAmt': 'sub_amount', 'LineNo': 'line_number', 'ItemNo': 'item_number', 'Qty': 'quantity', 'BaseQty': 'base_quantity', 'ts': 'timestamp' }\n",
        "\n",
        "df.rename(columns=column_mapping, inplace=True)"
      ]
    },
    {
      "cell_type": "code",
      "execution_count": 8,
      "metadata": {
        "id": "M5XfKu_vOSxK"
      },
      "outputs": [],
      "source": [
        "new_df = df.copy()\n",
        "\n",
        "# new_df.to_excel('cleaned_data.xlsx', index=False)"
      ]
    },
    {
      "cell_type": "markdown",
      "metadata": {
        "id": "hRTDNjd2Ngg7"
      },
      "source": [
        "Data Preprocessing"
      ]
    },
    {
      "cell_type": "code",
      "execution_count": 9,
      "metadata": {},
      "outputs": [
        {
          "name": "stdout",
          "output_type": "stream",
          "text": [
            "\u001b[33mDEPRECATION: Configuring installation scheme with distutils config files is deprecated and will no longer work in the near future. If you are using a Homebrew or Linuxbrew Python, please see discussion at https://github.com/Homebrew/homebrew-core/issues/76621\u001b[0m\u001b[33m\n",
            "\u001b[0mRequirement already satisfied: category_encoders in /opt/homebrew/lib/python3.8/site-packages (2.6.3)\n",
            "Requirement already satisfied: numpy>=1.14.0 in /opt/homebrew/lib/python3.8/site-packages (from category_encoders) (1.24.3)\n",
            "Requirement already satisfied: scikit-learn>=0.20.0 in /opt/homebrew/lib/python3.8/site-packages (from category_encoders) (1.3.2)\n",
            "Requirement already satisfied: scipy>=1.0.0 in /opt/homebrew/lib/python3.8/site-packages (from category_encoders) (1.10.1)\n",
            "Requirement already satisfied: statsmodels>=0.9.0 in /opt/homebrew/lib/python3.8/site-packages (from category_encoders) (0.14.1)\n",
            "Requirement already satisfied: pandas>=1.0.5 in /opt/homebrew/lib/python3.8/site-packages (from category_encoders) (2.0.3)\n",
            "Requirement already satisfied: patsy>=0.5.1 in /opt/homebrew/lib/python3.8/site-packages (from category_encoders) (0.5.6)\n",
            "Requirement already satisfied: importlib-resources in /opt/homebrew/lib/python3.8/site-packages (from category_encoders) (6.4.0)\n",
            "Requirement already satisfied: python-dateutil>=2.8.2 in /Users/ahmadazhar/Library/Python/3.8/lib/python/site-packages (from pandas>=1.0.5->category_encoders) (2.9.0.post0)\n",
            "Requirement already satisfied: pytz>=2020.1 in /opt/homebrew/lib/python3.8/site-packages (from pandas>=1.0.5->category_encoders) (2024.1)\n",
            "Requirement already satisfied: tzdata>=2022.1 in /opt/homebrew/lib/python3.8/site-packages (from pandas>=1.0.5->category_encoders) (2024.1)\n",
            "Requirement already satisfied: six in /Users/ahmadazhar/Library/Python/3.8/lib/python/site-packages (from patsy>=0.5.1->category_encoders) (1.16.0)\n",
            "Requirement already satisfied: joblib>=1.1.1 in /opt/homebrew/lib/python3.8/site-packages (from scikit-learn>=0.20.0->category_encoders) (1.4.2)\n",
            "Requirement already satisfied: threadpoolctl>=2.0.0 in /opt/homebrew/lib/python3.8/site-packages (from scikit-learn>=0.20.0->category_encoders) (3.5.0)\n",
            "Requirement already satisfied: packaging>=21.3 in /opt/homebrew/lib/python3.8/site-packages (from statsmodels>=0.9.0->category_encoders) (23.2)\n",
            "Requirement already satisfied: zipp>=3.1.0 in /Users/ahmadazhar/Library/Python/3.8/lib/python/site-packages (from importlib-resources->category_encoders) (3.18.2)\n",
            "\u001b[33mDEPRECATION: Configuring installation scheme with distutils config files is deprecated and will no longer work in the near future. If you are using a Homebrew or Linuxbrew Python, please see discussion at https://github.com/Homebrew/homebrew-core/issues/76621\u001b[0m\u001b[33m\n",
            "\u001b[0mNote: you may need to restart the kernel to use updated packages.\n"
          ]
        }
      ],
      "source": [
        "pip install category_encoders"
      ]
    },
    {
      "cell_type": "code",
      "execution_count": 10,
      "metadata": {
        "id": "OQKf9x67NibV"
      },
      "outputs": [],
      "source": [
        "\n",
        "import numpy as np\n",
        "from sklearn.preprocessing import MinMaxScaler \n",
        "from sklearn.preprocessing import LabelEncoder\n",
        "import category_encoders as ce"
      ]
    },
    {
      "cell_type": "code",
      "execution_count": 11,
      "metadata": {
        "id": "wr5Fo4_BjGXi"
      },
      "outputs": [],
      "source": [
        "# Make -ve column absolute\n",
        "numeric_cols = new_df.select_dtypes(include=np.number).columns\n",
        "\n",
        "for col in numeric_cols:\n",
        "  if (new_df[col] < 0).any():\n",
        "    new_df[col] = new_df[col].abs()"
      ]
    },
    {
      "cell_type": "code",
      "execution_count": 12,
      "metadata": {
        "id": "kzLeuWgrNELy"
      },
      "outputs": [],
      "source": [
        "# Categorical Columns\n",
        "new_df['district'] = new_df['district'].astype('category')\n",
        "new_df['province'] = new_df['province'].astype('category')\n",
        "new_df['salesman_territory'] = new_df['salesman_territory'].astype('category')\n",
        "new_df['unit_of_measurement'] = new_df['unit_of_measurement'].astype('category')"
      ]
    },
    {
      "cell_type": "code",
      "execution_count": 13,
      "metadata": {
        "id": "wUrWMOCYuj6U"
      },
      "outputs": [],
      "source": [
        "# format: 2024-03-06 12:00:00\n",
        "new_df['invoice_date'] = pd.to_datetime(new_df['invoice_date'], errors='coerce', format='%Y-%m-%d %H:%M:%S')\n",
        "new_df['delivery_order_date'] = pd.to_datetime(new_df['delivery_order_date'], errors='coerce', format='%Y-%m-%d %H:%M:%S')\n",
        "new_df['delivery_date'] = pd.to_datetime(new_df['delivery_date'], errors='coerce', format='%Y-%m-%d %H:%M:%S')\n",
        "new_df['due_date'] = pd.to_datetime(new_df['due_date'], errors='coerce', format='%Y-%m-%d %H:%M:%S')"
      ]
    },
    {
      "cell_type": "code",
      "execution_count": 14,
      "metadata": {
        "id": "u0YO_IzxS6UY"
      },
      "outputs": [],
      "source": [
        "# Drop columns not useful for model\n",
        "new_df.drop(['customer_name', 'customer_address', 'timestamp'], axis=1, inplace=True)"
      ]
    },
    {
      "cell_type": "code",
      "execution_count": 15,
      "metadata": {
        "colab": {
          "base_uri": "https://localhost:8080/",
          "height": 231
        },
        "id": "lt1HCH7KRoVH",
        "outputId": "fe50e29e-cd42-4386-a7be-2383bbf829cd"
      },
      "outputs": [
        {
          "data": {
            "text/html": [
              "<div>\n",
              "<style scoped>\n",
              "    .dataframe tbody tr th:only-of-type {\n",
              "        vertical-align: middle;\n",
              "    }\n",
              "\n",
              "    .dataframe tbody tr th {\n",
              "        vertical-align: top;\n",
              "    }\n",
              "\n",
              "    .dataframe thead th {\n",
              "        text-align: right;\n",
              "    }\n",
              "</style>\n",
              "<table border=\"1\" class=\"dataframe\">\n",
              "  <thead>\n",
              "    <tr style=\"text-align: right;\">\n",
              "      <th></th>\n",
              "      <th>customer_number</th>\n",
              "      <th>district</th>\n",
              "      <th>province</th>\n",
              "      <th>salesman_territory</th>\n",
              "      <th>invoice_number</th>\n",
              "      <th>invoice_date</th>\n",
              "      <th>delivery_order_date</th>\n",
              "      <th>delivery_date</th>\n",
              "      <th>salesman_name</th>\n",
              "      <th>subtotal_amount</th>\n",
              "      <th>...</th>\n",
              "      <th>paid_amount</th>\n",
              "      <th>due_date</th>\n",
              "      <th>line_number</th>\n",
              "      <th>item_number</th>\n",
              "      <th>unit_of_measurement</th>\n",
              "      <th>quantity</th>\n",
              "      <th>product_price</th>\n",
              "      <th>sub_amount</th>\n",
              "      <th>product_name</th>\n",
              "      <th>base_quantity</th>\n",
              "    </tr>\n",
              "  </thead>\n",
              "  <tbody>\n",
              "    <tr>\n",
              "      <th>0</th>\n",
              "      <td>002-19142</td>\n",
              "      <td>Sampaloc</td>\n",
              "      <td>RIZAL</td>\n",
              "      <td>002-PSS06</td>\n",
              "      <td>002-CMQAJ000016465</td>\n",
              "      <td>2023-01-04 12:00:00</td>\n",
              "      <td>2024-08-30 12:44:58</td>\n",
              "      <td>2024-08-30 12:44:58</td>\n",
              "      <td>LEONARD DORINGO</td>\n",
              "      <td>469.95</td>\n",
              "      <td>...</td>\n",
              "      <td>526.34</td>\n",
              "      <td>2023-01-04 12:00:00</td>\n",
              "      <td>2</td>\n",
              "      <td>6250190001</td>\n",
              "      <td>PC</td>\n",
              "      <td>3</td>\n",
              "      <td>28.75</td>\n",
              "      <td>77.0089</td>\n",
              "      <td>555 T. FLKS IN OIL 155g EOE</td>\n",
              "      <td>1</td>\n",
              "    </tr>\n",
              "    <tr>\n",
              "      <th>1</th>\n",
              "      <td>002-17827</td>\n",
              "      <td>Pantok</td>\n",
              "      <td>RIZAL</td>\n",
              "      <td>002-PSS09</td>\n",
              "      <td>002-CMQAJ000016486</td>\n",
              "      <td>2023-01-05 12:00:00</td>\n",
              "      <td>2024-08-30 12:44:58</td>\n",
              "      <td>2024-08-30 12:44:58</td>\n",
              "      <td>MARK ESCALA</td>\n",
              "      <td>3627.01</td>\n",
              "      <td>...</td>\n",
              "      <td>4062.25</td>\n",
              "      <td>2023-01-05 12:00:00</td>\n",
              "      <td>1</td>\n",
              "      <td>6250190001</td>\n",
              "      <td>PC</td>\n",
              "      <td>25</td>\n",
              "      <td>28.75</td>\n",
              "      <td>641.7411</td>\n",
              "      <td>555 T. FLKS IN OIL 155g EOE</td>\n",
              "      <td>1</td>\n",
              "    </tr>\n",
              "  </tbody>\n",
              "</table>\n",
              "<p>2 rows × 22 columns</p>\n",
              "</div>"
            ],
            "text/plain": [
              "  customer_number  district province salesman_territory      invoice_number  \\\n",
              "0       002-19142  Sampaloc    RIZAL          002-PSS06  002-CMQAJ000016465   \n",
              "1       002-17827    Pantok    RIZAL          002-PSS09  002-CMQAJ000016486   \n",
              "\n",
              "         invoice_date delivery_order_date       delivery_date  \\\n",
              "0 2023-01-04 12:00:00 2024-08-30 12:44:58 2024-08-30 12:44:58   \n",
              "1 2023-01-05 12:00:00 2024-08-30 12:44:58 2024-08-30 12:44:58   \n",
              "\n",
              "     salesman_name  subtotal_amount  ...  paid_amount            due_date  \\\n",
              "0  LEONARD DORINGO           469.95  ...       526.34 2023-01-04 12:00:00   \n",
              "1      MARK ESCALA          3627.01  ...      4062.25 2023-01-05 12:00:00   \n",
              "\n",
              "   line_number item_number  unit_of_measurement  quantity product_price  \\\n",
              "0            2  6250190001                   PC         3         28.75   \n",
              "1            1  6250190001                   PC        25         28.75   \n",
              "\n",
              "   sub_amount                 product_name  base_quantity  \n",
              "0     77.0089  555 T. FLKS IN OIL 155g EOE              1  \n",
              "1    641.7411  555 T. FLKS IN OIL 155g EOE              1  \n",
              "\n",
              "[2 rows x 22 columns]"
            ]
          },
          "execution_count": 15,
          "metadata": {},
          "output_type": "execute_result"
        }
      ],
      "source": [
        "new_df.head(2)"
      ]
    },
    {
      "cell_type": "code",
      "execution_count": 16,
      "metadata": {
        "id": "P1rny7bJH4qJ"
      },
      "outputs": [],
      "source": [
        "# Min Max Scale\n",
        "scaler = MinMaxScaler()\n",
        "columns_to_scale = ['subtotal_amount', 'gst_amount', 'total_amount', 'paid_amount', 'product_price', 'sub_amount', 'base_quantity', 'quantity']\n",
        "\n",
        "new_df[columns_to_scale] = scaler.fit_transform(new_df[columns_to_scale])"
      ]
    },
    {
      "cell_type": "code",
      "execution_count": 17,
      "metadata": {
        "id": "w9WCWRtBUrm-"
      },
      "outputs": [],
      "source": [
        "# Label Encode\n",
        "label_encoder = LabelEncoder()\n",
        "new_df['customer_number'] = label_encoder.fit_transform(new_df['customer_number'])\n",
        "new_df['invoice_number'] = label_encoder.fit_transform(new_df['invoice_number'])\n",
        "new_df['salesman_name'] = label_encoder.fit_transform(new_df['salesman_name'])\n",
        "new_df['product_name'] = label_encoder.fit_transform(new_df['product_name'])"
      ]
    },
    {
      "cell_type": "code",
      "execution_count": 18,
      "metadata": {
        "id": "5Lqe4mqAYz0Y"
      },
      "outputs": [],
      "source": [
        "# Frequency Encoding\n",
        "encoder = ce.CountEncoder(cols=['district'])\n",
        "new_df['district'] = encoder.fit_transform(new_df['district'])"
      ]
    },
    {
      "cell_type": "code",
      "execution_count": 19,
      "metadata": {
        "id": "-AYFIw5dY3IJ"
      },
      "outputs": [],
      "source": [
        "# One Hot Encoding\n",
        "new_df = pd.get_dummies(new_df, columns=['province'], drop_first=True)\n",
        "new_df = pd.get_dummies(new_df, columns=['salesman_territory'], drop_first=True)\n",
        "new_df = pd.get_dummies(new_df, columns=['unit_of_measurement'], drop_first=True)"
      ]
    },
    {
      "cell_type": "code",
      "execution_count": 20,
      "metadata": {
        "id": "tyzzWb75tuy5"
      },
      "outputs": [],
      "source": [
        "# Feature Extraction on Datetime columns\n",
        "new_df['invoice_day_of_week'] = new_df['invoice_date'].dt.dayofweek\n",
        "new_df['invoice_month'] = new_df['invoice_date'].dt.month\n",
        "new_df['invoice_day_of_month'] = new_df['invoice_date'].dt.day\n",
        "\n",
        "new_df['delivery_order_day_of_week'] = new_df['delivery_order_date'].dt.dayofweek\n",
        "new_df['delivery_order_month'] = new_df['delivery_order_date'].dt.month\n",
        "new_df['delivery_order_day_of_month'] = new_df['delivery_order_date'].dt.day\n",
        "\n",
        "new_df['delivery_day_of_week'] = new_df['delivery_date'].dt.dayofweek\n",
        "new_df['delivery_month'] = new_df['delivery_date'].dt.month\n",
        "new_df['delivery_day_of_month'] = new_df['delivery_date'].dt.day\n",
        "\n",
        "new_df['due_day_of_week'] = new_df['due_date'].dt.dayofweek\n",
        "new_df['due_month'] = new_df['due_date'].dt.month\n",
        "new_df['due_day_of_month'] = new_df['due_date'].dt.day"
      ]
    },
    {
      "cell_type": "code",
      "execution_count": 21,
      "metadata": {
        "id": "2kosvlUdsxQ7"
      },
      "outputs": [],
      "source": [
        "# Difference between features\n",
        "new_df['days_until_due'] = (new_df['due_date'] - new_df['invoice_date']).dt.days\n",
        "new_df['days_until_due'] = new_df['days_until_due'].fillna(0)\n",
        "\n",
        "new_df['days_until_delivery'] = (new_df['delivery_date'] - new_df['invoice_date']).dt.days\n",
        "new_df['days_until_delivery'] = new_df['days_until_delivery'].fillna(0)\n",
        "\n",
        "new_df['days_until_delivery_order'] = (new_df['delivery_order_date'] - new_df['invoice_date']).dt.days\n",
        "new_df['days_until_delivery_order'] = new_df['days_until_delivery_order'].fillna(0)\n",
        "\n",
        "new_df.drop(['invoice_date', 'delivery_order_date', 'delivery_date', 'due_date','sub_amount'], axis=1, inplace=True)"
      ]
    },
    {
      "cell_type": "markdown",
      "metadata": {
        "id": "63LsV2CGH-__"
      },
      "source": [
        "Training Model"
      ]
    },
    {
      "cell_type": "code",
      "execution_count": 22,
      "metadata": {
        "id": "e_imjX5eNghQ"
      },
      "outputs": [],
      "source": [
        "X = new_df.drop('quantity', axis=1)\n",
        "y = new_df['quantity']"
      ]
    },
    {
      "cell_type": "code",
      "execution_count": 23,
      "metadata": {},
      "outputs": [
        {
          "name": "stdout",
          "output_type": "stream",
          "text": [
            "\u001b[33mDEPRECATION: Configuring installation scheme with distutils config files is deprecated and will no longer work in the near future. If you are using a Homebrew or Linuxbrew Python, please see discussion at https://github.com/Homebrew/homebrew-core/issues/76621\u001b[0m\u001b[33m\n",
            "\u001b[0mRequirement already satisfied: catboost in /opt/homebrew/lib/python3.8/site-packages (1.2.5)\n",
            "Requirement already satisfied: graphviz in /opt/homebrew/lib/python3.8/site-packages (from catboost) (0.20.3)\n",
            "Requirement already satisfied: matplotlib in /opt/homebrew/lib/python3.8/site-packages (from catboost) (3.7.5)\n",
            "Requirement already satisfied: numpy>=1.16.0 in /opt/homebrew/lib/python3.8/site-packages (from catboost) (1.24.3)\n",
            "Requirement already satisfied: pandas>=0.24 in /opt/homebrew/lib/python3.8/site-packages (from catboost) (2.0.3)\n",
            "Requirement already satisfied: scipy in /opt/homebrew/lib/python3.8/site-packages (from catboost) (1.10.1)\n",
            "Requirement already satisfied: plotly in /opt/homebrew/lib/python3.8/site-packages (from catboost) (5.24.0)\n",
            "Requirement already satisfied: six in /Users/ahmadazhar/Library/Python/3.8/lib/python/site-packages (from catboost) (1.16.0)\n",
            "Requirement already satisfied: python-dateutil>=2.8.2 in /Users/ahmadazhar/Library/Python/3.8/lib/python/site-packages (from pandas>=0.24->catboost) (2.9.0.post0)\n",
            "Requirement already satisfied: pytz>=2020.1 in /opt/homebrew/lib/python3.8/site-packages (from pandas>=0.24->catboost) (2024.1)\n",
            "Requirement already satisfied: tzdata>=2022.1 in /opt/homebrew/lib/python3.8/site-packages (from pandas>=0.24->catboost) (2024.1)\n",
            "Requirement already satisfied: contourpy>=1.0.1 in /opt/homebrew/lib/python3.8/site-packages (from matplotlib->catboost) (1.1.1)\n",
            "Requirement already satisfied: cycler>=0.10 in /opt/homebrew/lib/python3.8/site-packages (from matplotlib->catboost) (0.12.1)\n",
            "Requirement already satisfied: fonttools>=4.22.0 in /opt/homebrew/lib/python3.8/site-packages (from matplotlib->catboost) (4.53.0)\n",
            "Requirement already satisfied: kiwisolver>=1.0.1 in /opt/homebrew/lib/python3.8/site-packages (from matplotlib->catboost) (1.4.5)\n",
            "Requirement already satisfied: packaging>=20.0 in /opt/homebrew/lib/python3.8/site-packages (from matplotlib->catboost) (23.2)\n",
            "Requirement already satisfied: pillow>=6.2.0 in /opt/homebrew/lib/python3.8/site-packages (from matplotlib->catboost) (10.3.0)\n",
            "Requirement already satisfied: pyparsing>=2.3.1 in /opt/homebrew/lib/python3.8/site-packages (from matplotlib->catboost) (3.1.2)\n",
            "Requirement already satisfied: importlib-resources>=3.2.0 in /opt/homebrew/lib/python3.8/site-packages (from matplotlib->catboost) (6.4.0)\n",
            "Requirement already satisfied: tenacity>=6.2.0 in /opt/homebrew/lib/python3.8/site-packages (from plotly->catboost) (8.3.0)\n",
            "Requirement already satisfied: zipp>=3.1.0 in /Users/ahmadazhar/Library/Python/3.8/lib/python/site-packages (from importlib-resources>=3.2.0->matplotlib->catboost) (3.18.2)\n",
            "\u001b[33mDEPRECATION: Configuring installation scheme with distutils config files is deprecated and will no longer work in the near future. If you are using a Homebrew or Linuxbrew Python, please see discussion at https://github.com/Homebrew/homebrew-core/issues/76621\u001b[0m\u001b[33m\n",
            "\u001b[0mNote: you may need to restart the kernel to use updated packages.\n"
          ]
        }
      ],
      "source": [
        "pip install catboost"
      ]
    },
    {
      "cell_type": "code",
      "execution_count": 24,
      "metadata": {
        "id": "p3snnXPkQu7r"
      },
      "outputs": [],
      "source": [
        "# !pip install xgboost\n",
        "# !pip install lightgbm\n",
        "\n",
        "# pip install dask[dataframe]\n"
      ]
    },
    {
      "cell_type": "code",
      "execution_count": 25,
      "metadata": {
        "id": "udqLV5G2PCD2"
      },
      "outputs": [],
      "source": [
        "# import xgboost as xgb\n",
        "# import lightgbm as lgb\n",
        "import catboost as cb\n",
        "from sklearn.linear_model import LinearRegression\n",
        "from sklearn.tree import DecisionTreeRegressor\n",
        "from sklearn.ensemble import RandomForestRegressor\n",
        "from sklearn.model_selection import train_test_split\n",
        "from sklearn.metrics import mean_squared_error, r2_score"
      ]
    },
    {
      "cell_type": "code",
      "execution_count": 26,
      "metadata": {
        "id": "TJr7rlpR0WpC"
      },
      "outputs": [],
      "source": [
        "X_train, X_test, y_train, y_test = train_test_split(X, y, test_size=0.3, random_state=2)"
      ]
    },
    {
      "cell_type": "code",
      "execution_count": 27,
      "metadata": {
        "colab": {
          "base_uri": "https://localhost:8080/"
        },
        "id": "ChhXx9670gSd",
        "outputId": "5a8c2c31-295e-4f0c-b7b6-741d9951d370"
      },
      "outputs": [
        {
          "name": "stdout",
          "output_type": "stream",
          "text": [
            "Mean Squared Error: 0.03 -- Root Mean Squared Error: 0.17 -- R-squared: 0.64\n"
          ]
        }
      ],
      "source": [
        "# Linear Regression\n",
        "linear_reg = LinearRegression()\n",
        "linear_reg.fit(X_train, y_train)\n",
        "\n",
        "y_pred = linear_reg.predict(X_test)\n",
        "mse = mean_squared_error(y_test, y_pred)\n",
        "rmse = mse**0.5\n",
        "r2 = r2_score(y_test, y_pred)\n",
        "\n",
        "print(f\"Mean Squared Error: {mse:.2f} -- Root Mean Squared Error: {rmse:.2f} -- R-squared: {r2:.2f}\")"
      ]
    },
    {
      "cell_type": "code",
      "execution_count": 28,
      "metadata": {
        "colab": {
          "base_uri": "https://localhost:8080/"
        },
        "id": "sHF5rbcZzdG_",
        "outputId": "fdca156c-5de2-40ae-bdd7-979f165c98d4"
      },
      "outputs": [
        {
          "name": "stdout",
          "output_type": "stream",
          "text": [
            "Mean Squared Error: 0.02 -- Root Mean Squared Error: 0.13 -- R-squared: 0.80\n"
          ]
        }
      ],
      "source": [
        "# Decision Tree\n",
        "decision_tree = DecisionTreeRegressor()\n",
        "decision_tree.fit(X_train, y_train)\n",
        "\n",
        "y_pred = decision_tree.predict(X_test)\n",
        "mse = mean_squared_error(y_test, y_pred)\n",
        "rmse = mse**0.5\n",
        "r2 = r2_score(y_test, y_pred)\n",
        "\n",
        "print(f\"Mean Squared Error: {mse:.2f} -- Root Mean Squared Error: {rmse:.2f} -- R-squared: {r2:.2f}\")"
      ]
    },
    {
      "cell_type": "code",
      "execution_count": 29,
      "metadata": {},
      "outputs": [],
      "source": [
        "feature_importances = pd.Series(decision_tree.feature_importances_, index=X.columns)\n",
        "feature_importances = feature_importances.sort_values(ascending=False)"
      ]
    },
    {
      "cell_type": "code",
      "execution_count": 30,
      "metadata": {},
      "outputs": [
        {
          "data": {
            "image/png": "[encoded data removed]",
            "text/plain": [
              "<Figure size 1000x600 with 1 Axes>"
            ]
          },
          "metadata": {},
          "output_type": "display_data"
        }
      ],
      "source": [
        "feature_importances.plot(kind='bar', figsize=(10, 6))\n",
        "plt.title(\"Feature Importance\")\n",
        "plt.show()"
      ]
    },
    {
      "cell_type": "code",
      "execution_count": 31,
      "metadata": {
        "colab": {
          "base_uri": "https://localhost:8080/"
        },
        "id": "BfnaTLVxMvsm",
        "outputId": "14599c65-a511-4c83-a944-4fdad0d9ee02"
      },
      "outputs": [
        {
          "name": "stdout",
          "output_type": "stream",
          "text": [
            "Mean Squared Error: 0.01 -- Root Mean Squared Error: 0.10 -- R-squared: 0.88\n"
          ]
        }
      ],
      "source": [
        "# Random Forest\n",
        "random_forest = RandomForestRegressor(n_estimators=100, random_state=42)\n",
        "random_forest.fit(X_train, y_train)\n",
        "\n",
        "y_pred = random_forest.predict(X_test)\n",
        "mse = mean_squared_error(y_test, y_pred)\n",
        "rmse = mse**0.5\n",
        "r2 = r2_score(y_test, y_pred)\n",
        "\n",
        "print(f\"Mean Squared Error: {mse:.2f} -- Root Mean Squared Error: {rmse:.2f} -- R-squared: {r2:.2f}\")"
      ]
    },
    {
      "cell_type": "code",
      "execution_count": 32,
      "metadata": {},
      "outputs": [
        {
          "data": {
            "text/plain": [
              "Index(['customer_number', 'district', 'invoice_number', 'salesman_name',\n",
              "       'subtotal_amount', 'gst_amount', 'total_amount', 'paid_amount',\n",
              "       'line_number', 'item_number', 'product_price', 'product_name',\n",
              "       'base_quantity', 'province_NCR, SECOND DISTRICT', 'province_RIZAL',\n",
              "       'salesman_territory_002-PSS05', 'salesman_territory_002-PSS06',\n",
              "       'salesman_territory_002-PSS07', 'salesman_territory_002-PSS08',\n",
              "       'salesman_territory_002-PSS09', 'salesman_territory_002-PSS10',\n",
              "       'salesman_territory_002-PSS11', 'salesman_territory_002-PSS12',\n",
              "       'salesman_territory_002-PSS13', 'unit_of_measurement_C50',\n",
              "       'unit_of_measurement_PC', 'unit_of_measurement_PCK',\n",
              "       'invoice_day_of_week', 'invoice_month', 'invoice_day_of_month',\n",
              "       'delivery_order_day_of_week', 'delivery_order_month',\n",
              "       'delivery_order_day_of_month', 'delivery_day_of_week', 'delivery_month',\n",
              "       'delivery_day_of_month', 'due_day_of_week', 'due_month',\n",
              "       'due_day_of_month', 'days_until_due', 'days_until_delivery',\n",
              "       'days_until_delivery_order'],\n",
              "      dtype='object')"
            ]
          },
          "execution_count": 32,
          "metadata": {},
          "output_type": "execute_result"
        }
      ],
      "source": [
        "X_train.columns"
      ]
    },
    {
      "cell_type": "code",
      "execution_count": 33,
      "metadata": {},
      "outputs": [],
      "source": [
        "X_train_reduced = X_train[['item_number','customer_number', 'product_price','base_quantity', 'total_amount', 'gst_amount', 'due_day_of_week', 'due_month', 'due_day_of_month']]\n",
        "\n",
        "# Retrain the model\n",
        "random_forest_reduced = RandomForestRegressor(n_estimators=100, random_state=42)\n",
        "random_forest_reduced.fit(X_train_reduced, y_train)\n",
        "\n",
        "# Save the new model\n",
        "with open('random_forest_model.pkl', 'wb') as f:\n",
        "    pickle.dump(random_forest_reduced, f)"
      ]
    },
    {
      "cell_type": "code",
      "execution_count": 34,
      "metadata": {
        "colab": {
          "base_uri": "https://localhost:8080/"
        },
        "id": "eiMmrEetM_84",
        "outputId": "4c00f1b6-4b2e-4980-d253-2abb6f685d47"
      },
      "outputs": [],
      "source": [
        "# # XGBoost\n",
        "# xgb_regressor = xgb.XGBRegressor(n_estimators=10, random_state=2)\n",
        "# xgb_regressor.fit(X_train, y_train)\n",
        "\n",
        "# results = xgb_regressor.get_booster().predict(xgb.DMatrix(X_test))\n",
        "# mse = mean_squared_error(y_test, results)\n",
        "# rmse = mse**0.5\n",
        "# r2 = r2_score(y_test, results)\n",
        "\n",
        "# print(f\"Mean Squared Error: {mse:.2f} -- Root Mean Squared Error: {rmse:.2f} -- R-squared: {r2:.2f}\")"
      ]
    },
    {
      "cell_type": "code",
      "execution_count": 35,
      "metadata": {},
      "outputs": [],
      "source": [
        "# pip install google.colab"
      ]
    },
    {
      "cell_type": "code",
      "execution_count": 36,
      "metadata": {
        "colab": {
          "base_uri": "https://localhost:8080/"
        },
        "id": "iepJQkLkOBsS",
        "outputId": "8a2b8653-6593-420b-e871-68ce1077e3d6"
      },
      "outputs": [
        {
          "name": "stdout",
          "output_type": "stream",
          "text": [
            "Learning rate set to 0.251083\n",
            "0:\tlearn: 0.2268769\ttotal: 61ms\tremaining: 6.04s\n",
            "1:\tlearn: 0.1982033\ttotal: 61.9ms\tremaining: 3.03s\n",
            "2:\tlearn: 0.1764881\ttotal: 62.7ms\tremaining: 2.03s\n",
            "3:\tlearn: 0.1592296\ttotal: 64.1ms\tremaining: 1.54s\n",
            "4:\tlearn: 0.1452160\ttotal: 65.2ms\tremaining: 1.24s\n",
            "5:\tlearn: 0.1350084\ttotal: 66.1ms\tremaining: 1.03s\n",
            "6:\tlearn: 0.1268255\ttotal: 66.9ms\tremaining: 889ms\n",
            "7:\tlearn: 0.1221244\ttotal: 67.9ms\tremaining: 781ms\n",
            "8:\tlearn: 0.1167380\ttotal: 68.8ms\tremaining: 696ms\n",
            "9:\tlearn: 0.1138723\ttotal: 69.6ms\tremaining: 627ms\n",
            "10:\tlearn: 0.1109305\ttotal: 70.7ms\tremaining: 572ms\n",
            "11:\tlearn: 0.1086154\ttotal: 71.6ms\tremaining: 525ms\n",
            "12:\tlearn: 0.1053636\ttotal: 72.6ms\tremaining: 486ms\n",
            "13:\tlearn: 0.1024604\ttotal: 73.6ms\tremaining: 452ms\n",
            "14:\tlearn: 0.1013948\ttotal: 74.5ms\tremaining: 422ms\n",
            "15:\tlearn: 0.0996134\ttotal: 75.4ms\tremaining: 396ms\n",
            "16:\tlearn: 0.0976877\ttotal: 76.4ms\tremaining: 373ms\n",
            "17:\tlearn: 0.0965260\ttotal: 77.2ms\tremaining: 352ms\n",
            "18:\tlearn: 0.0953881\ttotal: 78.2ms\tremaining: 333ms\n",
            "19:\tlearn: 0.0938810\ttotal: 79.3ms\tremaining: 317ms\n",
            "20:\tlearn: 0.0921967\ttotal: 80.2ms\tremaining: 302ms\n",
            "21:\tlearn: 0.0906129\ttotal: 81.3ms\tremaining: 288ms\n",
            "22:\tlearn: 0.0891968\ttotal: 82.3ms\tremaining: 276ms\n",
            "23:\tlearn: 0.0873051\ttotal: 83.3ms\tremaining: 264ms\n",
            "24:\tlearn: 0.0861409\ttotal: 84.4ms\tremaining: 253ms\n",
            "25:\tlearn: 0.0849923\ttotal: 85.3ms\tremaining: 243ms\n",
            "26:\tlearn: 0.0837742\ttotal: 86.4ms\tremaining: 234ms\n",
            "27:\tlearn: 0.0820006\ttotal: 87.3ms\tremaining: 224ms\n",
            "28:\tlearn: 0.0808018\ttotal: 88.3ms\tremaining: 216ms\n",
            "29:\tlearn: 0.0791942\ttotal: 89.3ms\tremaining: 208ms\n",
            "30:\tlearn: 0.0780375\ttotal: 90.4ms\tremaining: 201ms\n",
            "31:\tlearn: 0.0767065\ttotal: 91.5ms\tremaining: 194ms\n",
            "32:\tlearn: 0.0754904\ttotal: 92.5ms\tremaining: 188ms\n",
            "33:\tlearn: 0.0744940\ttotal: 93.5ms\tremaining: 181ms\n",
            "34:\tlearn: 0.0732794\ttotal: 94.6ms\tremaining: 176ms\n",
            "35:\tlearn: 0.0721111\ttotal: 95.6ms\tremaining: 170ms\n",
            "36:\tlearn: 0.0715144\ttotal: 96.6ms\tremaining: 164ms\n",
            "37:\tlearn: 0.0705457\ttotal: 97.5ms\tremaining: 159ms\n",
            "38:\tlearn: 0.0697856\ttotal: 98.6ms\tremaining: 154ms\n",
            "39:\tlearn: 0.0690947\ttotal: 99.5ms\tremaining: 149ms\n",
            "40:\tlearn: 0.0683723\ttotal: 100ms\tremaining: 145ms\n",
            "41:\tlearn: 0.0671498\ttotal: 102ms\tremaining: 140ms\n",
            "42:\tlearn: 0.0663299\ttotal: 103ms\tremaining: 136ms\n",
            "43:\tlearn: 0.0658173\ttotal: 104ms\tremaining: 132ms\n",
            "44:\tlearn: 0.0653372\ttotal: 105ms\tremaining: 128ms\n",
            "45:\tlearn: 0.0644165\ttotal: 106ms\tremaining: 124ms\n",
            "46:\tlearn: 0.0639271\ttotal: 107ms\tremaining: 121ms\n",
            "47:\tlearn: 0.0636515\ttotal: 108ms\tremaining: 117ms\n",
            "48:\tlearn: 0.0627903\ttotal: 109ms\tremaining: 114ms\n",
            "49:\tlearn: 0.0620658\ttotal: 110ms\tremaining: 110ms\n",
            "50:\tlearn: 0.0609049\ttotal: 112ms\tremaining: 107ms\n",
            "51:\tlearn: 0.0600112\ttotal: 113ms\tremaining: 104ms\n",
            "52:\tlearn: 0.0589778\ttotal: 114ms\tremaining: 101ms\n",
            "53:\tlearn: 0.0578827\ttotal: 115ms\tremaining: 97.9ms\n",
            "54:\tlearn: 0.0571812\ttotal: 116ms\tremaining: 94.9ms\n",
            "55:\tlearn: 0.0569163\ttotal: 117ms\tremaining: 92ms\n",
            "56:\tlearn: 0.0561264\ttotal: 118ms\tremaining: 89.1ms\n",
            "57:\tlearn: 0.0556495\ttotal: 119ms\tremaining: 86.3ms\n",
            "58:\tlearn: 0.0551815\ttotal: 120ms\tremaining: 83.4ms\n",
            "59:\tlearn: 0.0550461\ttotal: 121ms\tremaining: 80.8ms\n",
            "60:\tlearn: 0.0547915\ttotal: 122ms\tremaining: 78.1ms\n",
            "61:\tlearn: 0.0542256\ttotal: 123ms\tremaining: 75.5ms\n",
            "62:\tlearn: 0.0536156\ttotal: 124ms\tremaining: 73ms\n",
            "63:\tlearn: 0.0529234\ttotal: 125ms\tremaining: 70.4ms\n",
            "64:\tlearn: 0.0527649\ttotal: 127ms\tremaining: 68.2ms\n",
            "65:\tlearn: 0.0521929\ttotal: 128ms\tremaining: 65.8ms\n",
            "66:\tlearn: 0.0513317\ttotal: 129ms\tremaining: 63.6ms\n",
            "67:\tlearn: 0.0508064\ttotal: 130ms\tremaining: 61.3ms\n",
            "68:\tlearn: 0.0502560\ttotal: 131ms\tremaining: 59.1ms\n",
            "69:\tlearn: 0.0495522\ttotal: 133ms\tremaining: 56.9ms\n",
            "70:\tlearn: 0.0486387\ttotal: 134ms\tremaining: 54.7ms\n",
            "71:\tlearn: 0.0480780\ttotal: 135ms\tremaining: 52.5ms\n",
            "72:\tlearn: 0.0476762\ttotal: 136ms\tremaining: 50.3ms\n",
            "73:\tlearn: 0.0469792\ttotal: 137ms\tremaining: 48.3ms\n",
            "74:\tlearn: 0.0463524\ttotal: 139ms\tremaining: 46.2ms\n",
            "75:\tlearn: 0.0455212\ttotal: 140ms\tremaining: 44.1ms\n",
            "76:\tlearn: 0.0450676\ttotal: 141ms\tremaining: 42ms\n",
            "77:\tlearn: 0.0447803\ttotal: 142ms\tremaining: 40.1ms\n",
            "78:\tlearn: 0.0446401\ttotal: 144ms\tremaining: 38.2ms\n",
            "79:\tlearn: 0.0444891\ttotal: 145ms\tremaining: 36.2ms\n",
            "80:\tlearn: 0.0441189\ttotal: 146ms\tremaining: 34.3ms\n",
            "81:\tlearn: 0.0436020\ttotal: 147ms\tremaining: 32.3ms\n",
            "82:\tlearn: 0.0434899\ttotal: 148ms\tremaining: 30.4ms\n",
            "83:\tlearn: 0.0429538\ttotal: 150ms\tremaining: 28.5ms\n",
            "84:\tlearn: 0.0428187\ttotal: 151ms\tremaining: 26.6ms\n",
            "85:\tlearn: 0.0423096\ttotal: 152ms\tremaining: 24.7ms\n",
            "86:\tlearn: 0.0419620\ttotal: 153ms\tremaining: 22.9ms\n",
            "87:\tlearn: 0.0418039\ttotal: 154ms\tremaining: 21ms\n",
            "88:\tlearn: 0.0414126\ttotal: 155ms\tremaining: 19.2ms\n",
            "89:\tlearn: 0.0410614\ttotal: 156ms\tremaining: 17.4ms\n",
            "90:\tlearn: 0.0406548\ttotal: 158ms\tremaining: 15.7ms\n",
            "91:\tlearn: 0.0402576\ttotal: 160ms\tremaining: 13.9ms\n",
            "92:\tlearn: 0.0400980\ttotal: 162ms\tremaining: 12.2ms\n",
            "93:\tlearn: 0.0397806\ttotal: 163ms\tremaining: 10.4ms\n",
            "94:\tlearn: 0.0391963\ttotal: 164ms\tremaining: 8.63ms\n",
            "95:\tlearn: 0.0390668\ttotal: 165ms\tremaining: 6.88ms\n",
            "96:\tlearn: 0.0386181\ttotal: 166ms\tremaining: 5.14ms\n",
            "97:\tlearn: 0.0380907\ttotal: 167ms\tremaining: 3.42ms\n",
            "98:\tlearn: 0.0379062\ttotal: 169ms\tremaining: 1.71ms\n",
            "99:\tlearn: 0.0378257\ttotal: 171ms\tremaining: 0us\n",
            "Mean Squared Error: 0.01 -- Root Mean Squared Error: 0.09 -- R-squared: 0.89\n"
          ]
        }
      ],
      "source": [
        "# catboost\n",
        "catboost_regressor = cb.CatBoostRegressor(n_estimators=100, random_state=42)\n",
        "catboost_regressor.fit(X_train, y_train)\n",
        "\n",
        "predictions = catboost_regressor.predict(X_test)\n",
        "mse = mean_squared_error(y_test, predictions)\n",
        "rmse = mse**0.5\n",
        "r2 = r2_score(y_test, predictions)\n",
        "\n",
        "# from google.colab import output; output.clear()\n",
        "print(f\"Mean Squared Error: {mse:.2f} -- Root Mean Squared Error: {rmse:.2f} -- R-squared: {r2:.2f}\")"
      ]
    }
  ],
  "metadata": {
    "colab": {
      "provenance": []
    },
    "kernelspec": {
      "display_name": "Python 3",
      "language": "python",
      "name": "python3"
    },
    "language_info": {
      "codemirror_mode": {
        "name": "ipython",
        "version": 3
      },
      "file_extension": ".py",
      "mimetype": "text/x-python",
      "name": "python",
      "nbconvert_exporter": "python",
      "pygments_lexer": "ipython3",
      "version": "3.8.19"
    }
  },
  "nbformat": 4,
  "nbformat_minor": 0
}
